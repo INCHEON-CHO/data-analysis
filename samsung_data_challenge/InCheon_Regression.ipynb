{
 "cells": [
  {
   "cell_type": "code",
   "execution_count": 1,
   "metadata": {},
   "outputs": [],
   "source": [
    "import pandas as pd\n",
    "import numpy as np\n",
    "from sklearn.tree import DecisionTreeRegressor"
   ]
  },
  {
   "cell_type": "code",
   "execution_count": 2,
   "metadata": {},
   "outputs": [],
   "source": [
    "train = pd.read_csv(\"Train_Death_Info.csv\",encoding = 'CP949')"
   ]
  },
  {
   "cell_type": "code",
   "execution_count": 3,
   "metadata": {},
   "outputs": [
    {
     "data": {
      "text/html": [
       "<div>\n",
       "<style scoped>\n",
       "    .dataframe tbody tr th:only-of-type {\n",
       "        vertical-align: middle;\n",
       "    }\n",
       "\n",
       "    .dataframe tbody tr th {\n",
       "        vertical-align: top;\n",
       "    }\n",
       "\n",
       "    .dataframe thead th {\n",
       "        text-align: right;\n",
       "    }\n",
       "</style>\n",
       "<table border=\"1\" class=\"dataframe\">\n",
       "  <thead>\n",
       "    <tr style=\"text-align: right;\">\n",
       "      <th></th>\n",
       "      <th>발생년</th>\n",
       "      <th>발생년월일시</th>\n",
       "      <th>발생분</th>\n",
       "      <th>주야</th>\n",
       "      <th>요일</th>\n",
       "      <th>사망자수</th>\n",
       "      <th>사상자수</th>\n",
       "      <th>중상자수</th>\n",
       "      <th>경상자수</th>\n",
       "      <th>부상신고자수</th>\n",
       "      <th>...</th>\n",
       "      <th>도로형태_대분류</th>\n",
       "      <th>도로형태</th>\n",
       "      <th>당사자종별_1당_대분류</th>\n",
       "      <th>당사자종별_1당</th>\n",
       "      <th>당사자종별_2당_대분류</th>\n",
       "      <th>당사자종별_2당</th>\n",
       "      <th>발생위치X_UTMK</th>\n",
       "      <th>발생위치Y_UTMK</th>\n",
       "      <th>경도</th>\n",
       "      <th>위도</th>\n",
       "    </tr>\n",
       "  </thead>\n",
       "  <tbody>\n",
       "    <tr>\n",
       "      <th>0</th>\n",
       "      <td>2017</td>\n",
       "      <td>2017063023</td>\n",
       "      <td>14</td>\n",
       "      <td>야간</td>\n",
       "      <td>금</td>\n",
       "      <td>1</td>\n",
       "      <td>1</td>\n",
       "      <td>0</td>\n",
       "      <td>0</td>\n",
       "      <td>0</td>\n",
       "      <td>...</td>\n",
       "      <td>단일로</td>\n",
       "      <td>기타단일로</td>\n",
       "      <td>승용차</td>\n",
       "      <td>승용차</td>\n",
       "      <td>보행자</td>\n",
       "      <td>보행자</td>\n",
       "      <td>967633</td>\n",
       "      <td>1937456</td>\n",
       "      <td>127.134130</td>\n",
       "      <td>37.435704</td>\n",
       "    </tr>\n",
       "    <tr>\n",
       "      <th>1</th>\n",
       "      <td>2017</td>\n",
       "      <td>2017063021</td>\n",
       "      <td>45</td>\n",
       "      <td>야간</td>\n",
       "      <td>금</td>\n",
       "      <td>1</td>\n",
       "      <td>4</td>\n",
       "      <td>2</td>\n",
       "      <td>1</td>\n",
       "      <td>0</td>\n",
       "      <td>...</td>\n",
       "      <td>단일로</td>\n",
       "      <td>기타단일로</td>\n",
       "      <td>승용차</td>\n",
       "      <td>승용차</td>\n",
       "      <td>승용차</td>\n",
       "      <td>승용차</td>\n",
       "      <td>966456</td>\n",
       "      <td>1696405</td>\n",
       "      <td>127.131220</td>\n",
       "      <td>35.262534</td>\n",
       "    </tr>\n",
       "    <tr>\n",
       "      <th>2</th>\n",
       "      <td>2017</td>\n",
       "      <td>2017063021</td>\n",
       "      <td>50</td>\n",
       "      <td>야간</td>\n",
       "      <td>금</td>\n",
       "      <td>1</td>\n",
       "      <td>1</td>\n",
       "      <td>0</td>\n",
       "      <td>0</td>\n",
       "      <td>0</td>\n",
       "      <td>...</td>\n",
       "      <td>단일로</td>\n",
       "      <td>기타단일로</td>\n",
       "      <td>승용차</td>\n",
       "      <td>승용차</td>\n",
       "      <td>보행자</td>\n",
       "      <td>보행자</td>\n",
       "      <td>900057</td>\n",
       "      <td>1865697</td>\n",
       "      <td>126.379922</td>\n",
       "      <td>36.784142</td>\n",
       "    </tr>\n",
       "    <tr>\n",
       "      <th>3</th>\n",
       "      <td>2017</td>\n",
       "      <td>2017063019</td>\n",
       "      <td>10</td>\n",
       "      <td>야간</td>\n",
       "      <td>금</td>\n",
       "      <td>1</td>\n",
       "      <td>1</td>\n",
       "      <td>0</td>\n",
       "      <td>0</td>\n",
       "      <td>0</td>\n",
       "      <td>...</td>\n",
       "      <td>교차로</td>\n",
       "      <td>교차로부근</td>\n",
       "      <td>승용차</td>\n",
       "      <td>승용차</td>\n",
       "      <td>이륜차</td>\n",
       "      <td>이륜차</td>\n",
       "      <td>1095230</td>\n",
       "      <td>1764891</td>\n",
       "      <td>128.554945</td>\n",
       "      <td>35.875973</td>\n",
       "    </tr>\n",
       "    <tr>\n",
       "      <th>4</th>\n",
       "      <td>2017</td>\n",
       "      <td>2017063017</td>\n",
       "      <td>2</td>\n",
       "      <td>주간</td>\n",
       "      <td>금</td>\n",
       "      <td>1</td>\n",
       "      <td>2</td>\n",
       "      <td>1</td>\n",
       "      <td>0</td>\n",
       "      <td>0</td>\n",
       "      <td>...</td>\n",
       "      <td>단일로</td>\n",
       "      <td>교량위</td>\n",
       "      <td>이륜차</td>\n",
       "      <td>이륜차</td>\n",
       "      <td>화물차</td>\n",
       "      <td>화물차</td>\n",
       "      <td>947576</td>\n",
       "      <td>1946355</td>\n",
       "      <td>126.906786</td>\n",
       "      <td>37.514993</td>\n",
       "    </tr>\n",
       "    <tr>\n",
       "      <th>5</th>\n",
       "      <td>2017</td>\n",
       "      <td>2017063010</td>\n",
       "      <td>59</td>\n",
       "      <td>주간</td>\n",
       "      <td>금</td>\n",
       "      <td>1</td>\n",
       "      <td>1</td>\n",
       "      <td>0</td>\n",
       "      <td>0</td>\n",
       "      <td>0</td>\n",
       "      <td>...</td>\n",
       "      <td>단일로</td>\n",
       "      <td>기타단일로</td>\n",
       "      <td>이륜차</td>\n",
       "      <td>이륜차</td>\n",
       "      <td>승용차</td>\n",
       "      <td>승용차</td>\n",
       "      <td>939085</td>\n",
       "      <td>1681915</td>\n",
       "      <td>126.831392</td>\n",
       "      <td>35.130593</td>\n",
       "    </tr>\n",
       "    <tr>\n",
       "      <th>6</th>\n",
       "      <td>2017</td>\n",
       "      <td>2017063009</td>\n",
       "      <td>45</td>\n",
       "      <td>주간</td>\n",
       "      <td>금</td>\n",
       "      <td>1</td>\n",
       "      <td>3</td>\n",
       "      <td>2</td>\n",
       "      <td>0</td>\n",
       "      <td>0</td>\n",
       "      <td>...</td>\n",
       "      <td>교차로</td>\n",
       "      <td>교차로내</td>\n",
       "      <td>승용차</td>\n",
       "      <td>승용차</td>\n",
       "      <td>화물차</td>\n",
       "      <td>화물차</td>\n",
       "      <td>1086800</td>\n",
       "      <td>1742412</td>\n",
       "      <td>128.459134</td>\n",
       "      <td>35.674109</td>\n",
       "    </tr>\n",
       "    <tr>\n",
       "      <th>7</th>\n",
       "      <td>2017</td>\n",
       "      <td>2017063008</td>\n",
       "      <td>20</td>\n",
       "      <td>주간</td>\n",
       "      <td>금</td>\n",
       "      <td>1</td>\n",
       "      <td>1</td>\n",
       "      <td>0</td>\n",
       "      <td>0</td>\n",
       "      <td>0</td>\n",
       "      <td>...</td>\n",
       "      <td>단일로</td>\n",
       "      <td>기타단일로</td>\n",
       "      <td>화물차</td>\n",
       "      <td>화물차</td>\n",
       "      <td>보행자</td>\n",
       "      <td>보행자</td>\n",
       "      <td>964452</td>\n",
       "      <td>1924850</td>\n",
       "      <td>127.098780</td>\n",
       "      <td>37.321961</td>\n",
       "    </tr>\n",
       "    <tr>\n",
       "      <th>8</th>\n",
       "      <td>2017</td>\n",
       "      <td>2017063006</td>\n",
       "      <td>30</td>\n",
       "      <td>주간</td>\n",
       "      <td>금</td>\n",
       "      <td>1</td>\n",
       "      <td>1</td>\n",
       "      <td>0</td>\n",
       "      <td>0</td>\n",
       "      <td>0</td>\n",
       "      <td>...</td>\n",
       "      <td>단일로</td>\n",
       "      <td>기타단일로</td>\n",
       "      <td>화물차</td>\n",
       "      <td>화물차</td>\n",
       "      <td>이륜차</td>\n",
       "      <td>이륜차</td>\n",
       "      <td>917238</td>\n",
       "      <td>1855415</td>\n",
       "      <td>126.573561</td>\n",
       "      <td>36.693121</td>\n",
       "    </tr>\n",
       "    <tr>\n",
       "      <th>9</th>\n",
       "      <td>2017</td>\n",
       "      <td>2017063004</td>\n",
       "      <td>0</td>\n",
       "      <td>야간</td>\n",
       "      <td>금</td>\n",
       "      <td>1</td>\n",
       "      <td>2</td>\n",
       "      <td>0</td>\n",
       "      <td>1</td>\n",
       "      <td>0</td>\n",
       "      <td>...</td>\n",
       "      <td>단일로</td>\n",
       "      <td>기타단일로</td>\n",
       "      <td>화물차</td>\n",
       "      <td>화물차</td>\n",
       "      <td>승용차</td>\n",
       "      <td>승용차</td>\n",
       "      <td>1024580</td>\n",
       "      <td>1665614</td>\n",
       "      <td>127.769316</td>\n",
       "      <td>34.985147</td>\n",
       "    </tr>\n",
       "  </tbody>\n",
       "</table>\n",
       "<p>10 rows × 27 columns</p>\n",
       "</div>"
      ],
      "text/plain": [
       "    발생년      발생년월일시  발생분  주야 요일  사망자수  사상자수  중상자수  경상자수  부상신고자수    ...      \\\n",
       "0  2017  2017063023   14  야간  금     1     1     0     0       0    ...       \n",
       "1  2017  2017063021   45  야간  금     1     4     2     1       0    ...       \n",
       "2  2017  2017063021   50  야간  금     1     1     0     0       0    ...       \n",
       "3  2017  2017063019   10  야간  금     1     1     0     0       0    ...       \n",
       "4  2017  2017063017    2  주간  금     1     2     1     0       0    ...       \n",
       "5  2017  2017063010   59  주간  금     1     1     0     0       0    ...       \n",
       "6  2017  2017063009   45  주간  금     1     3     2     0       0    ...       \n",
       "7  2017  2017063008   20  주간  금     1     1     0     0       0    ...       \n",
       "8  2017  2017063006   30  주간  금     1     1     0     0       0    ...       \n",
       "9  2017  2017063004    0  야간  금     1     2     0     1       0    ...       \n",
       "\n",
       "  도로형태_대분류   도로형태 당사자종별_1당_대분류 당사자종별_1당 당사자종별_2당_대분류 당사자종별_2당 발생위치X_UTMK  \\\n",
       "0      단일로  기타단일로          승용차      승용차          보행자      보행자     967633   \n",
       "1      단일로  기타단일로          승용차      승용차          승용차      승용차     966456   \n",
       "2      단일로  기타단일로          승용차      승용차          보행자      보행자     900057   \n",
       "3      교차로  교차로부근          승용차      승용차          이륜차      이륜차    1095230   \n",
       "4      단일로    교량위          이륜차      이륜차          화물차      화물차     947576   \n",
       "5      단일로  기타단일로          이륜차      이륜차          승용차      승용차     939085   \n",
       "6      교차로   교차로내          승용차      승용차          화물차      화물차    1086800   \n",
       "7      단일로  기타단일로          화물차      화물차          보행자      보행자     964452   \n",
       "8      단일로  기타단일로          화물차      화물차          이륜차      이륜차     917238   \n",
       "9      단일로  기타단일로          화물차      화물차          승용차      승용차    1024580   \n",
       "\n",
       "  발생위치Y_UTMK          경도         위도  \n",
       "0    1937456  127.134130  37.435704  \n",
       "1    1696405  127.131220  35.262534  \n",
       "2    1865697  126.379922  36.784142  \n",
       "3    1764891  128.554945  35.875973  \n",
       "4    1946355  126.906786  37.514993  \n",
       "5    1681915  126.831392  35.130593  \n",
       "6    1742412  128.459134  35.674109  \n",
       "7    1924850  127.098780  37.321961  \n",
       "8    1855415  126.573561  36.693121  \n",
       "9    1665614  127.769316  34.985147  \n",
       "\n",
       "[10 rows x 27 columns]"
      ]
     },
     "execution_count": 3,
     "metadata": {},
     "output_type": "execute_result"
    }
   ],
   "source": [
    "train.head(10)"
   ]
  },
  {
   "cell_type": "code",
   "execution_count": 4,
   "metadata": {},
   "outputs": [
    {
     "data": {
      "text/plain": [
       "Index(['발생년', '발생년월일시', '발생분', '주야', '요일', '사망자수', '사상자수', '중상자수', '경상자수',\n",
       "       '부상신고자수', '발생지시도', '발생지시군구', '사고유형_대분류', '사고유형_중분류', '사고유형', '법규위반_대분류',\n",
       "       '법규위반', '도로형태_대분류', '도로형태', '당사자종별_1당_대분류', '당사자종별_1당', '당사자종별_2당_대분류',\n",
       "       '당사자종별_2당', '발생위치X_UTMK', '발생위치Y_UTMK', '경도', '위도'],\n",
       "      dtype='object')"
      ]
     },
     "execution_count": 4,
     "metadata": {},
     "output_type": "execute_result"
    }
   ],
   "source": [
    "train.columns"
   ]
  },
  {
   "cell_type": "code",
   "execution_count": 6,
   "metadata": {},
   "outputs": [],
   "source": [
    "from sklearn import preprocessing\n",
    "le = preprocessing.LabelEncoder()"
   ]
  },
  {
   "cell_type": "code",
   "execution_count": 9,
   "metadata": {},
   "outputs": [
    {
     "name": "stderr",
     "output_type": "stream",
     "text": [
      "C:\\Users\\user\\AppData\\Local\\conda\\conda\\envs\\venv\\lib\\site-packages\\ipykernel_launcher.py:1: SettingWithCopyWarning: \n",
      "A value is trying to be set on a copy of a slice from a DataFrame\n",
      "\n",
      "See the caveats in the documentation: http://pandas.pydata.org/pandas-docs/stable/indexing.html#indexing-view-versus-copy\n",
      "  \"\"\"Entry point for launching an IPython kernel.\n",
      "C:\\Users\\user\\AppData\\Local\\conda\\conda\\envs\\venv\\lib\\site-packages\\ipykernel_launcher.py:2: SettingWithCopyWarning: \n",
      "A value is trying to be set on a copy of a slice from a DataFrame\n",
      "\n",
      "See the caveats in the documentation: http://pandas.pydata.org/pandas-docs/stable/indexing.html#indexing-view-versus-copy\n",
      "  \n",
      "C:\\Users\\user\\AppData\\Local\\conda\\conda\\envs\\venv\\lib\\site-packages\\ipykernel_launcher.py:3: SettingWithCopyWarning: \n",
      "A value is trying to be set on a copy of a slice from a DataFrame\n",
      "\n",
      "See the caveats in the documentation: http://pandas.pydata.org/pandas-docs/stable/indexing.html#indexing-view-versus-copy\n",
      "  This is separate from the ipykernel package so we can avoid doing imports until\n",
      "C:\\Users\\user\\AppData\\Local\\conda\\conda\\envs\\venv\\lib\\site-packages\\ipykernel_launcher.py:4: SettingWithCopyWarning: \n",
      "A value is trying to be set on a copy of a slice from a DataFrame\n",
      "\n",
      "See the caveats in the documentation: http://pandas.pydata.org/pandas-docs/stable/indexing.html#indexing-view-versus-copy\n",
      "  after removing the cwd from sys.path.\n"
     ]
    }
   ],
   "source": [
    "train.당사자종별_2당[train.당사자종별_2당=='0']='없음'\n",
    "train.당사자종별_2당_대분류[train.당사자종별_2당_대분류=='0']='없음'\n",
    "train.당사자종별_2당[train.당사자종별_2당.isna()]='없음'\n",
    "train.당사자종별_2당_대분류[train.당사자종별_2당_대분류.isna()]='없음'"
   ]
  },
  {
   "cell_type": "code",
   "execution_count": 10,
   "metadata": {},
   "outputs": [],
   "source": [
    "col_idx = train.columns"
   ]
  },
  {
   "cell_type": "code",
   "execution_count": 11,
   "metadata": {},
   "outputs": [],
   "source": [
    "for i in range(len(col_idx)):\n",
    "    if train.loc[:,col_idx[i]].dtype=='O':\n",
    "        le.fit(train.loc[:,col_idx[i]])\n",
    "        new_dn = pd.Series(le.transform(train.loc[:,col_idx[i]]))\n",
    "        train.loc[:,col_idx[i]] = new_dn"
   ]
  },
  {
   "cell_type": "code",
   "execution_count": 12,
   "metadata": {},
   "outputs": [
    {
     "data": {
      "text/html": [
       "<div>\n",
       "<style scoped>\n",
       "    .dataframe tbody tr th:only-of-type {\n",
       "        vertical-align: middle;\n",
       "    }\n",
       "\n",
       "    .dataframe tbody tr th {\n",
       "        vertical-align: top;\n",
       "    }\n",
       "\n",
       "    .dataframe thead th {\n",
       "        text-align: right;\n",
       "    }\n",
       "</style>\n",
       "<table border=\"1\" class=\"dataframe\">\n",
       "  <thead>\n",
       "    <tr style=\"text-align: right;\">\n",
       "      <th></th>\n",
       "      <th>발생년</th>\n",
       "      <th>발생년월일시</th>\n",
       "      <th>발생분</th>\n",
       "      <th>주야</th>\n",
       "      <th>요일</th>\n",
       "      <th>사망자수</th>\n",
       "      <th>사상자수</th>\n",
       "      <th>중상자수</th>\n",
       "      <th>경상자수</th>\n",
       "      <th>부상신고자수</th>\n",
       "      <th>...</th>\n",
       "      <th>도로형태_대분류</th>\n",
       "      <th>도로형태</th>\n",
       "      <th>당사자종별_1당_대분류</th>\n",
       "      <th>당사자종별_1당</th>\n",
       "      <th>당사자종별_2당_대분류</th>\n",
       "      <th>당사자종별_2당</th>\n",
       "      <th>발생위치X_UTMK</th>\n",
       "      <th>발생위치Y_UTMK</th>\n",
       "      <th>경도</th>\n",
       "      <th>위도</th>\n",
       "    </tr>\n",
       "  </thead>\n",
       "  <tbody>\n",
       "    <tr>\n",
       "      <th>0</th>\n",
       "      <td>2017</td>\n",
       "      <td>2017063023</td>\n",
       "      <td>14</td>\n",
       "      <td>0</td>\n",
       "      <td>0</td>\n",
       "      <td>1</td>\n",
       "      <td>1</td>\n",
       "      <td>0</td>\n",
       "      <td>0</td>\n",
       "      <td>0</td>\n",
       "      <td>...</td>\n",
       "      <td>5</td>\n",
       "      <td>8</td>\n",
       "      <td>5</td>\n",
       "      <td>9</td>\n",
       "      <td>2</td>\n",
       "      <td>4</td>\n",
       "      <td>967633</td>\n",
       "      <td>1937456</td>\n",
       "      <td>127.134130</td>\n",
       "      <td>37.435704</td>\n",
       "    </tr>\n",
       "    <tr>\n",
       "      <th>1</th>\n",
       "      <td>2017</td>\n",
       "      <td>2017063021</td>\n",
       "      <td>45</td>\n",
       "      <td>0</td>\n",
       "      <td>0</td>\n",
       "      <td>1</td>\n",
       "      <td>4</td>\n",
       "      <td>2</td>\n",
       "      <td>1</td>\n",
       "      <td>0</td>\n",
       "      <td>...</td>\n",
       "      <td>5</td>\n",
       "      <td>8</td>\n",
       "      <td>5</td>\n",
       "      <td>9</td>\n",
       "      <td>5</td>\n",
       "      <td>9</td>\n",
       "      <td>966456</td>\n",
       "      <td>1696405</td>\n",
       "      <td>127.131220</td>\n",
       "      <td>35.262534</td>\n",
       "    </tr>\n",
       "    <tr>\n",
       "      <th>2</th>\n",
       "      <td>2017</td>\n",
       "      <td>2017063021</td>\n",
       "      <td>50</td>\n",
       "      <td>0</td>\n",
       "      <td>0</td>\n",
       "      <td>1</td>\n",
       "      <td>1</td>\n",
       "      <td>0</td>\n",
       "      <td>0</td>\n",
       "      <td>0</td>\n",
       "      <td>...</td>\n",
       "      <td>5</td>\n",
       "      <td>8</td>\n",
       "      <td>5</td>\n",
       "      <td>9</td>\n",
       "      <td>2</td>\n",
       "      <td>4</td>\n",
       "      <td>900057</td>\n",
       "      <td>1865697</td>\n",
       "      <td>126.379922</td>\n",
       "      <td>36.784142</td>\n",
       "    </tr>\n",
       "    <tr>\n",
       "      <th>3</th>\n",
       "      <td>2017</td>\n",
       "      <td>2017063019</td>\n",
       "      <td>10</td>\n",
       "      <td>0</td>\n",
       "      <td>0</td>\n",
       "      <td>1</td>\n",
       "      <td>1</td>\n",
       "      <td>0</td>\n",
       "      <td>0</td>\n",
       "      <td>0</td>\n",
       "      <td>...</td>\n",
       "      <td>2</td>\n",
       "      <td>4</td>\n",
       "      <td>5</td>\n",
       "      <td>9</td>\n",
       "      <td>10</td>\n",
       "      <td>14</td>\n",
       "      <td>1095230</td>\n",
       "      <td>1764891</td>\n",
       "      <td>128.554945</td>\n",
       "      <td>35.875973</td>\n",
       "    </tr>\n",
       "    <tr>\n",
       "      <th>4</th>\n",
       "      <td>2017</td>\n",
       "      <td>2017063017</td>\n",
       "      <td>2</td>\n",
       "      <td>1</td>\n",
       "      <td>0</td>\n",
       "      <td>1</td>\n",
       "      <td>2</td>\n",
       "      <td>1</td>\n",
       "      <td>0</td>\n",
       "      <td>0</td>\n",
       "      <td>...</td>\n",
       "      <td>5</td>\n",
       "      <td>2</td>\n",
       "      <td>8</td>\n",
       "      <td>12</td>\n",
       "      <td>13</td>\n",
       "      <td>18</td>\n",
       "      <td>947576</td>\n",
       "      <td>1946355</td>\n",
       "      <td>126.906786</td>\n",
       "      <td>37.514993</td>\n",
       "    </tr>\n",
       "  </tbody>\n",
       "</table>\n",
       "<p>5 rows × 27 columns</p>\n",
       "</div>"
      ],
      "text/plain": [
       "    발생년      발생년월일시  발생분  주야  요일  사망자수  사상자수  중상자수  경상자수  부상신고자수    ...      \\\n",
       "0  2017  2017063023   14   0   0     1     1     0     0       0    ...       \n",
       "1  2017  2017063021   45   0   0     1     4     2     1       0    ...       \n",
       "2  2017  2017063021   50   0   0     1     1     0     0       0    ...       \n",
       "3  2017  2017063019   10   0   0     1     1     0     0       0    ...       \n",
       "4  2017  2017063017    2   1   0     1     2     1     0       0    ...       \n",
       "\n",
       "   도로형태_대분류  도로형태  당사자종별_1당_대분류  당사자종별_1당  당사자종별_2당_대분류  당사자종별_2당  발생위치X_UTMK  \\\n",
       "0         5     8             5         9             2         4      967633   \n",
       "1         5     8             5         9             5         9      966456   \n",
       "2         5     8             5         9             2         4      900057   \n",
       "3         2     4             5         9            10        14     1095230   \n",
       "4         5     2             8        12            13        18      947576   \n",
       "\n",
       "   발생위치Y_UTMK          경도         위도  \n",
       "0     1937456  127.134130  37.435704  \n",
       "1     1696405  127.131220  35.262534  \n",
       "2     1865697  126.379922  36.784142  \n",
       "3     1764891  128.554945  35.875973  \n",
       "4     1946355  126.906786  37.514993  \n",
       "\n",
       "[5 rows x 27 columns]"
      ]
     },
     "execution_count": 12,
     "metadata": {},
     "output_type": "execute_result"
    }
   ],
   "source": [
    "train.head()"
   ]
  },
  {
   "cell_type": "code",
   "execution_count": 14,
   "metadata": {},
   "outputs": [],
   "source": [
    "train['월']=train['발생년월일시'].astype(str).str.slice(4,6)\n",
    "train['일']=train['발생년월일시'].astype(str).str.slice(6,8)\n",
    "train['시']=train['발생년월일시'].astype(str).str.slice(8,10)\n",
    "train=train[['발생년', '월','일','시', '발생분', '주야', '요일', '사망자수', '사상자수', '중상자수', '경상자수',\n",
    "       '부상신고자수', '발생지시도', '발생지시군구', '사고유형_대분류', '사고유형_중분류', '사고유형', '법규위반_대분류',\n",
    "       '법규위반', '도로형태_대분류', '도로형태', '당사자종별_1당_대분류', '당사자종별_1당', '당사자종별_2당_대분류',\n",
    "       '당사자종별_2당', '발생위치X_UTMK', '발생위치Y_UTMK', '경도', '위도', ]]"
   ]
  },
  {
   "cell_type": "code",
   "execution_count": 29,
   "metadata": {},
   "outputs": [
    {
     "data": {
      "text/html": [
       "<div>\n",
       "<style scoped>\n",
       "    .dataframe tbody tr th:only-of-type {\n",
       "        vertical-align: middle;\n",
       "    }\n",
       "\n",
       "    .dataframe tbody tr th {\n",
       "        vertical-align: top;\n",
       "    }\n",
       "\n",
       "    .dataframe thead th {\n",
       "        text-align: right;\n",
       "    }\n",
       "</style>\n",
       "<table border=\"1\" class=\"dataframe\">\n",
       "  <thead>\n",
       "    <tr style=\"text-align: right;\">\n",
       "      <th></th>\n",
       "      <th>발생년</th>\n",
       "      <th>월</th>\n",
       "      <th>일</th>\n",
       "      <th>시</th>\n",
       "      <th>발생분</th>\n",
       "      <th>주야</th>\n",
       "      <th>요일</th>\n",
       "      <th>사망자수</th>\n",
       "      <th>사상자수</th>\n",
       "      <th>중상자수</th>\n",
       "      <th>...</th>\n",
       "      <th>도로형태_대분류</th>\n",
       "      <th>도로형태</th>\n",
       "      <th>당사자종별_1당_대분류</th>\n",
       "      <th>당사자종별_1당</th>\n",
       "      <th>당사자종별_2당_대분류</th>\n",
       "      <th>당사자종별_2당</th>\n",
       "      <th>발생위치X_UTMK</th>\n",
       "      <th>발생위치Y_UTMK</th>\n",
       "      <th>경도</th>\n",
       "      <th>위도</th>\n",
       "    </tr>\n",
       "  </thead>\n",
       "  <tbody>\n",
       "    <tr>\n",
       "      <th>0</th>\n",
       "      <td>2017</td>\n",
       "      <td>06</td>\n",
       "      <td>30</td>\n",
       "      <td>23</td>\n",
       "      <td>14</td>\n",
       "      <td>0</td>\n",
       "      <td>0</td>\n",
       "      <td>1</td>\n",
       "      <td>1</td>\n",
       "      <td>0</td>\n",
       "      <td>...</td>\n",
       "      <td>5</td>\n",
       "      <td>8</td>\n",
       "      <td>5</td>\n",
       "      <td>9</td>\n",
       "      <td>2</td>\n",
       "      <td>4</td>\n",
       "      <td>967633</td>\n",
       "      <td>1937456</td>\n",
       "      <td>127.134130</td>\n",
       "      <td>37.435704</td>\n",
       "    </tr>\n",
       "    <tr>\n",
       "      <th>1</th>\n",
       "      <td>2017</td>\n",
       "      <td>06</td>\n",
       "      <td>30</td>\n",
       "      <td>21</td>\n",
       "      <td>45</td>\n",
       "      <td>0</td>\n",
       "      <td>0</td>\n",
       "      <td>1</td>\n",
       "      <td>4</td>\n",
       "      <td>2</td>\n",
       "      <td>...</td>\n",
       "      <td>5</td>\n",
       "      <td>8</td>\n",
       "      <td>5</td>\n",
       "      <td>9</td>\n",
       "      <td>5</td>\n",
       "      <td>9</td>\n",
       "      <td>966456</td>\n",
       "      <td>1696405</td>\n",
       "      <td>127.131220</td>\n",
       "      <td>35.262534</td>\n",
       "    </tr>\n",
       "    <tr>\n",
       "      <th>2</th>\n",
       "      <td>2017</td>\n",
       "      <td>06</td>\n",
       "      <td>30</td>\n",
       "      <td>21</td>\n",
       "      <td>50</td>\n",
       "      <td>0</td>\n",
       "      <td>0</td>\n",
       "      <td>1</td>\n",
       "      <td>1</td>\n",
       "      <td>0</td>\n",
       "      <td>...</td>\n",
       "      <td>5</td>\n",
       "      <td>8</td>\n",
       "      <td>5</td>\n",
       "      <td>9</td>\n",
       "      <td>2</td>\n",
       "      <td>4</td>\n",
       "      <td>900057</td>\n",
       "      <td>1865697</td>\n",
       "      <td>126.379922</td>\n",
       "      <td>36.784142</td>\n",
       "    </tr>\n",
       "    <tr>\n",
       "      <th>3</th>\n",
       "      <td>2017</td>\n",
       "      <td>06</td>\n",
       "      <td>30</td>\n",
       "      <td>19</td>\n",
       "      <td>10</td>\n",
       "      <td>0</td>\n",
       "      <td>0</td>\n",
       "      <td>1</td>\n",
       "      <td>1</td>\n",
       "      <td>0</td>\n",
       "      <td>...</td>\n",
       "      <td>2</td>\n",
       "      <td>4</td>\n",
       "      <td>5</td>\n",
       "      <td>9</td>\n",
       "      <td>10</td>\n",
       "      <td>14</td>\n",
       "      <td>1095230</td>\n",
       "      <td>1764891</td>\n",
       "      <td>128.554945</td>\n",
       "      <td>35.875973</td>\n",
       "    </tr>\n",
       "    <tr>\n",
       "      <th>4</th>\n",
       "      <td>2017</td>\n",
       "      <td>06</td>\n",
       "      <td>30</td>\n",
       "      <td>17</td>\n",
       "      <td>2</td>\n",
       "      <td>1</td>\n",
       "      <td>0</td>\n",
       "      <td>1</td>\n",
       "      <td>2</td>\n",
       "      <td>1</td>\n",
       "      <td>...</td>\n",
       "      <td>5</td>\n",
       "      <td>2</td>\n",
       "      <td>8</td>\n",
       "      <td>12</td>\n",
       "      <td>13</td>\n",
       "      <td>18</td>\n",
       "      <td>947576</td>\n",
       "      <td>1946355</td>\n",
       "      <td>126.906786</td>\n",
       "      <td>37.514993</td>\n",
       "    </tr>\n",
       "    <tr>\n",
       "      <th>5</th>\n",
       "      <td>2017</td>\n",
       "      <td>06</td>\n",
       "      <td>30</td>\n",
       "      <td>10</td>\n",
       "      <td>59</td>\n",
       "      <td>1</td>\n",
       "      <td>0</td>\n",
       "      <td>1</td>\n",
       "      <td>1</td>\n",
       "      <td>0</td>\n",
       "      <td>...</td>\n",
       "      <td>5</td>\n",
       "      <td>8</td>\n",
       "      <td>8</td>\n",
       "      <td>12</td>\n",
       "      <td>5</td>\n",
       "      <td>9</td>\n",
       "      <td>939085</td>\n",
       "      <td>1681915</td>\n",
       "      <td>126.831392</td>\n",
       "      <td>35.130593</td>\n",
       "    </tr>\n",
       "    <tr>\n",
       "      <th>6</th>\n",
       "      <td>2017</td>\n",
       "      <td>06</td>\n",
       "      <td>30</td>\n",
       "      <td>09</td>\n",
       "      <td>45</td>\n",
       "      <td>1</td>\n",
       "      <td>0</td>\n",
       "      <td>1</td>\n",
       "      <td>3</td>\n",
       "      <td>2</td>\n",
       "      <td>...</td>\n",
       "      <td>2</td>\n",
       "      <td>3</td>\n",
       "      <td>5</td>\n",
       "      <td>9</td>\n",
       "      <td>13</td>\n",
       "      <td>18</td>\n",
       "      <td>1086800</td>\n",
       "      <td>1742412</td>\n",
       "      <td>128.459134</td>\n",
       "      <td>35.674109</td>\n",
       "    </tr>\n",
       "    <tr>\n",
       "      <th>7</th>\n",
       "      <td>2017</td>\n",
       "      <td>06</td>\n",
       "      <td>30</td>\n",
       "      <td>08</td>\n",
       "      <td>20</td>\n",
       "      <td>1</td>\n",
       "      <td>0</td>\n",
       "      <td>1</td>\n",
       "      <td>1</td>\n",
       "      <td>0</td>\n",
       "      <td>...</td>\n",
       "      <td>5</td>\n",
       "      <td>8</td>\n",
       "      <td>11</td>\n",
       "      <td>16</td>\n",
       "      <td>2</td>\n",
       "      <td>4</td>\n",
       "      <td>964452</td>\n",
       "      <td>1924850</td>\n",
       "      <td>127.098780</td>\n",
       "      <td>37.321961</td>\n",
       "    </tr>\n",
       "    <tr>\n",
       "      <th>8</th>\n",
       "      <td>2017</td>\n",
       "      <td>06</td>\n",
       "      <td>30</td>\n",
       "      <td>06</td>\n",
       "      <td>30</td>\n",
       "      <td>1</td>\n",
       "      <td>0</td>\n",
       "      <td>1</td>\n",
       "      <td>1</td>\n",
       "      <td>0</td>\n",
       "      <td>...</td>\n",
       "      <td>5</td>\n",
       "      <td>8</td>\n",
       "      <td>11</td>\n",
       "      <td>16</td>\n",
       "      <td>10</td>\n",
       "      <td>14</td>\n",
       "      <td>917238</td>\n",
       "      <td>1855415</td>\n",
       "      <td>126.573561</td>\n",
       "      <td>36.693121</td>\n",
       "    </tr>\n",
       "    <tr>\n",
       "      <th>9</th>\n",
       "      <td>2017</td>\n",
       "      <td>06</td>\n",
       "      <td>30</td>\n",
       "      <td>04</td>\n",
       "      <td>0</td>\n",
       "      <td>0</td>\n",
       "      <td>0</td>\n",
       "      <td>1</td>\n",
       "      <td>2</td>\n",
       "      <td>0</td>\n",
       "      <td>...</td>\n",
       "      <td>5</td>\n",
       "      <td>8</td>\n",
       "      <td>11</td>\n",
       "      <td>16</td>\n",
       "      <td>5</td>\n",
       "      <td>9</td>\n",
       "      <td>1024580</td>\n",
       "      <td>1665614</td>\n",
       "      <td>127.769316</td>\n",
       "      <td>34.985147</td>\n",
       "    </tr>\n",
       "  </tbody>\n",
       "</table>\n",
       "<p>10 rows × 29 columns</p>\n",
       "</div>"
      ],
      "text/plain": [
       "    발생년   월   일   시  발생분  주야  요일  사망자수  사상자수  중상자수    ...      도로형태_대분류  도로형태  \\\n",
       "0  2017  06  30  23   14   0   0     1     1     0    ...             5     8   \n",
       "1  2017  06  30  21   45   0   0     1     4     2    ...             5     8   \n",
       "2  2017  06  30  21   50   0   0     1     1     0    ...             5     8   \n",
       "3  2017  06  30  19   10   0   0     1     1     0    ...             2     4   \n",
       "4  2017  06  30  17    2   1   0     1     2     1    ...             5     2   \n",
       "5  2017  06  30  10   59   1   0     1     1     0    ...             5     8   \n",
       "6  2017  06  30  09   45   1   0     1     3     2    ...             2     3   \n",
       "7  2017  06  30  08   20   1   0     1     1     0    ...             5     8   \n",
       "8  2017  06  30  06   30   1   0     1     1     0    ...             5     8   \n",
       "9  2017  06  30  04    0   0   0     1     2     0    ...             5     8   \n",
       "\n",
       "   당사자종별_1당_대분류  당사자종별_1당  당사자종별_2당_대분류  당사자종별_2당  발생위치X_UTMK  발생위치Y_UTMK  \\\n",
       "0             5         9             2         4      967633     1937456   \n",
       "1             5         9             5         9      966456     1696405   \n",
       "2             5         9             2         4      900057     1865697   \n",
       "3             5         9            10        14     1095230     1764891   \n",
       "4             8        12            13        18      947576     1946355   \n",
       "5             8        12             5         9      939085     1681915   \n",
       "6             5         9            13        18     1086800     1742412   \n",
       "7            11        16             2         4      964452     1924850   \n",
       "8            11        16            10        14      917238     1855415   \n",
       "9            11        16             5         9     1024580     1665614   \n",
       "\n",
       "           경도         위도  \n",
       "0  127.134130  37.435704  \n",
       "1  127.131220  35.262534  \n",
       "2  126.379922  36.784142  \n",
       "3  128.554945  35.875973  \n",
       "4  126.906786  37.514993  \n",
       "5  126.831392  35.130593  \n",
       "6  128.459134  35.674109  \n",
       "7  127.098780  37.321961  \n",
       "8  126.573561  36.693121  \n",
       "9  127.769316  34.985147  \n",
       "\n",
       "[10 rows x 29 columns]"
      ]
     },
     "execution_count": 29,
     "metadata": {},
     "output_type": "execute_result"
    }
   ],
   "source": [
    "train.head(10)"
   ]
  },
  {
   "cell_type": "code",
   "execution_count": 78,
   "metadata": {},
   "outputs": [],
   "source": [
    "from sklearn.model_selection import train_test_split\n",
    "x1, x2, y1, y2 = train_test_split(train, train.사망자수, test_size=0.2, random_state=42)"
   ]
  },
  {
   "cell_type": "code",
   "execution_count": 68,
   "metadata": {},
   "outputs": [
    {
     "name": "stdout",
     "output_type": "stream",
     "text": [
      "(20029, 29)\n",
      "(5008, 29)\n",
      "(20029,)\n",
      "(5008,)\n"
     ]
    }
   ],
   "source": [
    "x1.shape\n",
    "print(x1.shape)\n",
    "print(x2.shape)\n",
    "print(y1.shape)\n",
    "print(y2.shape)"
   ]
  },
  {
   "cell_type": "code",
   "execution_count": 79,
   "metadata": {},
   "outputs": [],
   "source": [
    "train_model = DecisionTreeRegressor()"
   ]
  },
  {
   "cell_type": "code",
   "execution_count": 36,
   "metadata": {},
   "outputs": [
    {
     "data": {
      "text/plain": [
       "Index(['발생년', '월', '일', '시', '발생분', '주야', '요일', '사망자수', '사상자수', '중상자수', '경상자수',\n",
       "       '부상신고자수', '발생지시도', '발생지시군구', '사고유형_대분류', '사고유형_중분류', '사고유형', '법규위반_대분류',\n",
       "       '법규위반', '도로형태_대분류', '도로형태', '당사자종별_1당_대분류', '당사자종별_1당', '당사자종별_2당_대분류',\n",
       "       '당사자종별_2당', '발생위치X_UTMK', '발생위치Y_UTMK', '경도', '위도'],\n",
       "      dtype='object')"
      ]
     },
     "execution_count": 36,
     "metadata": {},
     "output_type": "execute_result"
    }
   ],
   "source": [
    "train.columns"
   ]
  },
  {
   "cell_type": "code",
   "execution_count": 69,
   "metadata": {},
   "outputs": [],
   "source": [
    "use_col_name = ['시','발생분','주야','요일','발생지시도','발생지시군구','당사자종별_1당_대분류','당사자종별_2당_대분류','경도','위도']"
   ]
  },
  {
   "cell_type": "code",
   "execution_count": 80,
   "metadata": {},
   "outputs": [],
   "source": [
    "X1 = x1[use_col_name]"
   ]
  },
  {
   "cell_type": "code",
   "execution_count": 81,
   "metadata": {},
   "outputs": [
    {
     "data": {
      "text/plain": [
       "DecisionTreeRegressor(criterion='mse', max_depth=None, max_features=None,\n",
       "           max_leaf_nodes=None, min_impurity_decrease=0.0,\n",
       "           min_impurity_split=None, min_samples_leaf=1,\n",
       "           min_samples_split=2, min_weight_fraction_leaf=0.0,\n",
       "           presort=False, random_state=None, splitter='best')"
      ]
     },
     "execution_count": 81,
     "metadata": {},
     "output_type": "execute_result"
    }
   ],
   "source": [
    "train_model.fit(X1,y1)"
   ]
  },
  {
   "cell_type": "code",
   "execution_count": 82,
   "metadata": {},
   "outputs": [],
   "source": [
    "X2 = x2[use_col_name]"
   ]
  },
  {
   "cell_type": "code",
   "execution_count": 47,
   "metadata": {},
   "outputs": [
    {
     "name": "stdout",
     "output_type": "stream",
     "text": [
      "Making predictions for the following 10 :\n",
      "        시  발생분  주야  요일  발생지시도  발생지시군구  당사자종별_1당_대분류  당사자종별_2당_대분류          경도  \\\n",
      "22192  20    8   0   5      3     180             6             2  129.066586   \n",
      "20239  22   51   0   3      1     142             5             2  127.211534   \n",
      "20989  20   25   0   1      1     205             5             7  126.873977   \n",
      "18177  14   38   1   4      4      24             5             2  126.817903   \n",
      "14464  23   50   0   0      4      80            11             2  126.877396   \n",
      "22407  22    0   0   1      1      23             8             2  126.867420   \n",
      "16902  05   35   0   0      8       1             5             2  127.051573   \n",
      "14393  10   25   1   1     15      77            11            10  126.883271   \n",
      "24110  12   50   1   2     15      20            11            13  127.234068   \n",
      "24155  22   46   0   5      8      50             5             2  127.079778   \n",
      "\n",
      "              위도  \n",
      "22192  36.436322  \n",
      "20239  37.233214  \n",
      "20989  37.167434  \n",
      "18177  35.177875  \n",
      "14464  35.210747  \n",
      "22407  37.473354  \n",
      "16902  37.512513  \n",
      "14393  36.265083  \n",
      "24110  36.400644  \n",
      "24155  37.668297  \n",
      "The predictions are\n",
      "[1. 1. 1. ... 1. 1. 1.]\n"
     ]
    }
   ],
   "source": [
    "print(\"Making predictions for the following 10 :\")\n",
    "print(X2)\n",
    "print(\"The predictions are\")\n",
    "print(train_model.predict(X2))"
   ]
  },
  {
   "cell_type": "code",
   "execution_count": 84,
   "metadata": {},
   "outputs": [
    {
     "name": "stdout",
     "output_type": "stream",
     "text": [
      "0.08586261980830671\n"
     ]
    }
   ],
   "source": [
    "from sklearn.metrics import mean_absolute_error\n",
    "print(mean_absolute_error(y2,train_model.predict(X2)))"
   ]
  },
  {
   "cell_type": "code",
   "execution_count": 91,
   "metadata": {},
   "outputs": [
    {
     "data": {
      "text/plain": [
       "5008"
      ]
     },
     "execution_count": 91,
     "metadata": {},
     "output_type": "execute_result"
    }
   ],
   "source": [
    "len(y2)"
   ]
  },
  {
   "cell_type": "code",
   "execution_count": 97,
   "metadata": {},
   "outputs": [
    {
     "data": {
      "text/plain": [
       "4709.0"
      ]
     },
     "execution_count": 97,
     "metadata": {},
     "output_type": "execute_result"
    }
   ],
   "source": [
    "from sklearn.model_selection import cross_val_score\n",
    "a = cross_val_score(train_model,X2, y2,cv=len(y2))\n",
    "sum(a)"
   ]
  },
  {
   "cell_type": "code",
   "execution_count": 98,
   "metadata": {},
   "outputs": [
    {
     "data": {
      "text/plain": [
       "0.9321086261980831"
      ]
     },
     "execution_count": 98,
     "metadata": {},
     "output_type": "execute_result"
    }
   ],
   "source": [
    "from sklearn.metrics import accuracy_score\n",
    "y_pred = train_model.predict(X2)\n",
    "accuracy_score(y2, y_pred)"
   ]
  },
  {
   "cell_type": "code",
   "execution_count": 95,
   "metadata": {},
   "outputs": [
    {
     "data": {
      "text/plain": [
       "93.21086261980831"
      ]
     },
     "execution_count": 95,
     "metadata": {},
     "output_type": "execute_result"
    }
   ],
   "source": [
    "cnt_0 = y2-train_model.predict(X2)\n",
    "len(cnt_0[cnt_0==0])/len(cnt_0)*100"
   ]
  },
  {
   "cell_type": "code",
   "execution_count": 72,
   "metadata": {},
   "outputs": [
    {
     "data": {
      "text/plain": [
       "DecisionTreeClassifier(class_weight=None, criterion='gini', max_depth=None,\n",
       "            max_features=None, max_leaf_nodes=None,\n",
       "            min_impurity_decrease=0.0, min_impurity_split=None,\n",
       "            min_samples_leaf=1, min_samples_split=2,\n",
       "            min_weight_fraction_leaf=0.0, presort=False, random_state=None,\n",
       "            splitter='best')"
      ]
     },
     "execution_count": 72,
     "metadata": {},
     "output_type": "execute_result"
    }
   ],
   "source": [
    "'''from sklearn.tree import DecisionTreeClassifier\n",
    "train_score = DecisionTreeClassifier()\n",
    "train_score.fit(X1,y1)'''"
   ]
  },
  {
   "cell_type": "code",
   "execution_count": 77,
   "metadata": {},
   "outputs": [
    {
     "name": "stdout",
     "output_type": "stream",
     "text": [
      "테스트 셋 정확도 : 1.000\n"
     ]
    }
   ],
   "source": [
    "'''print(\"테스트 셋 정확도 : {:.3f}\".format(train_score.score(X2,y2)))'''"
   ]
  },
  {
   "cell_type": "code",
   "execution_count": 143,
   "metadata": {},
   "outputs": [],
   "source": [
    "x1, x2, y1, y2 = train_test_split(train, train.요일, test_size=0.2, random_state=42)"
   ]
  },
  {
   "cell_type": "code",
   "execution_count": 144,
   "metadata": {},
   "outputs": [],
   "source": [
    "use_col_name = ['시','발생분','주야','발생지시도','발생지시군구','당사자종별_1당_대분류','당사자종별_2당_대분류','경도','위도']"
   ]
  },
  {
   "cell_type": "code",
   "execution_count": 145,
   "metadata": {},
   "outputs": [],
   "source": [
    "X1 = x1[use_col_name]"
   ]
  },
  {
   "cell_type": "code",
   "execution_count": 157,
   "metadata": {},
   "outputs": [],
   "source": [
    "train_model = DecisionTreeClassifier(criterion = 'entropy', max_depth = 7,random_state=42)"
   ]
  },
  {
   "cell_type": "code",
   "execution_count": 158,
   "metadata": {},
   "outputs": [
    {
     "data": {
      "text/plain": [
       "DecisionTreeClassifier(class_weight=None, criterion='entropy', max_depth=7,\n",
       "            max_features=None, max_leaf_nodes=None,\n",
       "            min_impurity_decrease=0.0, min_impurity_split=None,\n",
       "            min_samples_leaf=1, min_samples_split=2,\n",
       "            min_weight_fraction_leaf=0.0, presort=False, random_state=42,\n",
       "            splitter='best')"
      ]
     },
     "execution_count": 158,
     "metadata": {},
     "output_type": "execute_result"
    }
   ],
   "source": [
    "train_model.fit(X1, y1)"
   ]
  },
  {
   "cell_type": "code",
   "execution_count": 148,
   "metadata": {},
   "outputs": [],
   "source": [
    "X2 = x2[use_col_name]"
   ]
  },
  {
   "cell_type": "code",
   "execution_count": 63,
   "metadata": {},
   "outputs": [
    {
     "name": "stdout",
     "output_type": "stream",
     "text": [
      "Making predictions for the following 10 :\n",
      "        시  발생분  주야  발생지시도  발생지시군구  당사자종별_1당_대분류  당사자종별_2당_대분류          경도  \\\n",
      "22192  20    8   0      3     180             6             2  129.066586   \n",
      "20239  22   51   0      1     142             5             2  127.211534   \n",
      "20989  20   25   0      1     205             5             7  126.873977   \n",
      "18177  14   38   1      4      24             5             2  126.817903   \n",
      "14464  23   50   0      4      80            11             2  126.877396   \n",
      "22407  22    0   0      1      23             8             2  126.867420   \n",
      "16902  05   35   0      8       1             5             2  127.051573   \n",
      "14393  10   25   1     15      77            11            10  126.883271   \n",
      "24110  12   50   1     15      20            11            13  127.234068   \n",
      "24155  22   46   0      8      50             5             2  127.079778   \n",
      "\n",
      "              위도  \n",
      "22192  36.436322  \n",
      "20239  37.233214  \n",
      "20989  37.167434  \n",
      "18177  35.177875  \n",
      "14464  35.210747  \n",
      "22407  37.473354  \n",
      "16902  37.512513  \n",
      "14393  36.265083  \n",
      "24110  36.400644  \n",
      "24155  37.668297  \n",
      "The predictions are\n",
      "[5. 4. 1. ... 3. 4. 2.]\n"
     ]
    }
   ],
   "source": [
    "print(\"Making predictions for the following 10 :\")\n",
    "print(X2.head(10))\n",
    "print(\"The predictions are\")\n",
    "print(train_model.predict(X2))"
   ]
  },
  {
   "cell_type": "code",
   "execution_count": 156,
   "metadata": {},
   "outputs": [
    {
     "data": {
      "text/plain": [
       "0.1459664536741214"
      ]
     },
     "execution_count": 156,
     "metadata": {},
     "output_type": "execute_result"
    }
   ],
   "source": [
    "y_pred = train_model.predict(X2)\n",
    "accuracy_score(y2, y_pred)"
   ]
  },
  {
   "cell_type": "code",
   "execution_count": 159,
   "metadata": {},
   "outputs": [
    {
     "data": {
      "text/plain": [
       "0.1505591054313099"
      ]
     },
     "execution_count": 159,
     "metadata": {},
     "output_type": "execute_result"
    }
   ],
   "source": [
    "train_model.score(X2,y2)"
   ]
  },
  {
   "cell_type": "code",
   "execution_count": null,
   "metadata": {},
   "outputs": [],
   "source": []
  }
 ],
 "metadata": {
  "kernelspec": {
   "display_name": "Python 3",
   "language": "python",
   "name": "python3"
  },
  "language_info": {
   "codemirror_mode": {
    "name": "ipython",
    "version": 3
   },
   "file_extension": ".py",
   "mimetype": "text/x-python",
   "name": "python",
   "nbconvert_exporter": "python",
   "pygments_lexer": "ipython3",
   "version": "3.6.5"
  }
 },
 "nbformat": 4,
 "nbformat_minor": 2
}
